{
 "cells": [
  {
   "cell_type": "markdown",
   "metadata": {},
   "source": [
    "# isnumeric(), isdigit(), isdecimal() 各有幾個"
   ]
  },
  {
   "cell_type": "code",
   "execution_count": 1,
   "metadata": {},
   "outputs": [],
   "source": [
    "sample = ['5.9', '30', '½', '³', '⑬']"
   ]
  },
  {
   "cell_type": "code",
   "execution_count": 3,
   "metadata": {},
   "outputs": [
    {
     "name": "stdout",
     "output_type": "stream",
     "text": [
      "5.9\n",
      "False\n",
      "False\n",
      "False\n",
      "\n",
      "\n",
      "30\n",
      "True\n",
      "True\n",
      "True\n",
      "\n",
      "\n",
      "½\n",
      "True\n",
      "False\n",
      "False\n",
      "\n",
      "\n",
      "³\n",
      "True\n",
      "True\n",
      "False\n",
      "\n",
      "\n",
      "⑬\n",
      "True\n",
      "False\n",
      "False\n",
      "\n",
      "\n",
      "isnumeric_count: 4\n",
      "isdigit_count: 2\n",
      "isdecimal_count: 1\n"
     ]
    }
   ],
   "source": [
    "total_count=[0,0,0]\n",
    "test_function=['isnumeric','isdigit','isdecimal']\n",
    "for unit in sample:\n",
    "    print(format(unit))\n",
    "    for test in test_function:\n",
    "        print(getattr(unit,test)())\n",
    "        if getattr(unit,test)()==True:\n",
    "            total_count[test_function.index(test)]=total_count[test_function.index(test)]+1\n",
    "    print('\\n')\n",
    "print('isnumeric_count:',total_count[0])\n",
    "print('isdigit_count:',total_count[1])\n",
    "print('isdecimal_count:',total_count[2])"
   ]
  },
  {
   "cell_type": "markdown",
   "metadata": {},
   "source": [
    "# 運用formatting 技巧 output"
   ]
  },
  {
   "cell_type": "code",
   "execution_count": 17,
   "metadata": {},
   "outputs": [
    {
     "name": "stdout",
     "output_type": "stream",
     "text": [
      "98.13\n",
      "94.88\n",
      "96.29\n"
     ]
    }
   ],
   "source": [
    "#取到小數點第二位\n",
    "accuracy = 98.129393\n",
    "recall =   94.879583\n",
    "precision =96.294821\n",
    "print('{:.2f}'.format(accuracy))\n",
    "print('{:.2f}'.format(recall))\n",
    "print('{:.2f}'.format(precision))"
   ]
  },
  {
   "cell_type": "code",
   "execution_count": 33,
   "metadata": {},
   "outputs": [
    {
     "name": "stdout",
     "output_type": "stream",
     "text": [
      "98.13%\n",
      "94.88%\n",
      "96.29%\n"
     ]
    }
   ],
   "source": [
    "#換成百分率，取到小數點第二位\n",
    "accuracy = 0.98129393\n",
    "recall =   0.94879583\n",
    "precision =0.96294821\n",
    "print('{:.2%}'.format(accuracy))\n",
    "print('{:.2%}'.format(recall))\n",
    "print('{:.2%}'.format(precision))"
   ]
  },
  {
   "cell_type": "markdown",
   "metadata": {},
   "source": [
    "# 依照只是轉換number output format"
   ]
  },
  {
   "cell_type": "code",
   "execution_count": 40,
   "metadata": {},
   "outputs": [
    {
     "name": "stdout",
     "output_type": "stream",
     "text": [
      "3.141593e+00\n"
     ]
    }
   ],
   "source": [
    "#轉換為科學符號表示法 (小數點後兩位)\n",
    "number = 3.1415926\n",
    "print('%e' %number)"
   ]
  },
  {
   "cell_type": "code",
   "execution_count": 43,
   "metadata": {},
   "outputs": [
    {
     "name": "stdout",
     "output_type": "stream",
     "text": [
      "314.16%\n"
     ]
    }
   ],
   "source": [
    "#轉換為%\n",
    "print('{:.2%}'.format(number))"
   ]
  },
  {
   "cell_type": "code",
   "execution_count": 51,
   "metadata": {},
   "outputs": [
    {
     "name": "stdout",
     "output_type": "stream",
     "text": [
      "3.14159300\n"
     ]
    }
   ],
   "source": [
    "#補零成為3.14159300\n",
    "print('%6f00' %number)"
   ]
  },
  {
   "cell_type": "code",
   "execution_count": null,
   "metadata": {},
   "outputs": [],
   "source": []
  }
 ],
 "metadata": {
  "kernelspec": {
   "display_name": "Python 3",
   "language": "python",
   "name": "python3"
  },
  "language_info": {
   "codemirror_mode": {
    "name": "ipython",
    "version": 3
   },
   "file_extension": ".py",
   "mimetype": "text/x-python",
   "name": "python",
   "nbconvert_exporter": "python",
   "pygments_lexer": "ipython3",
   "version": "3.8.5"
  }
 },
 "nbformat": 4,
 "nbformat_minor": 4
}
